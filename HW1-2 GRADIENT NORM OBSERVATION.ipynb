{
 "cells": [
  {
   "cell_type": "code",
   "execution_count": 12,
   "id": "4960ffac",
   "metadata": {},
   "outputs": [],
   "source": [
    "import torch\n",
    "import torch.nn as nn\n",
    "import torch.nn.functional as F\n",
    "from torch.utils.data import DataLoader\n",
    "from torchvision import datasets, transforms\n",
    "\n",
    "\n",
    "import numpy as np\n",
    "import pandas as pd\n",
    "import matplotlib.pyplot as plt\n",
    "%matplotlib inline"
   ]
  },
  {
   "cell_type": "code",
   "execution_count": 13,
   "id": "9e355c6a",
   "metadata": {},
   "outputs": [],
   "source": [
    "X = torch.linspace(-1,1,200).reshape(-1,1)"
   ]
  },
  {
   "cell_type": "code",
   "execution_count": 14,
   "id": "e2dbb607",
   "metadata": {},
   "outputs": [],
   "source": [
    "y=(np.sin(5*(np.pi*X)))/((5*(np.pi*X)))"
   ]
  },
  {
   "cell_type": "code",
   "execution_count": 15,
   "id": "31dea007",
   "metadata": {},
   "outputs": [],
   "source": [
    "class Model(nn.Module):\n",
    "    def __init__(self, inp=1, h2=5, h3=10,h4=10,h5=10,h6=10,h7=10,h8=5, outp=1):\n",
    "        super().__init__()\n",
    "        self.fc1 = nn.Linear(inp,h2)    \n",
    "        self.fc2 = nn.Linear(h2, h3)\n",
    "        self.fc3 = nn.Linear(h3, h4)\n",
    "        self.fc4 = nn.Linear(h4, h5)\n",
    "        self.fc5 = nn.Linear(h5, h6)\n",
    "        self.fc6 = nn.Linear(h6, h7)\n",
    "        self.fc7 = nn.Linear(h7, h8)\n",
    "        self.out = nn.Linear(h8, outp)  \n",
    "\n",
    "        \n",
    "    def forward(self, x):\n",
    "        x = F.relu(self.fc1(x))\n",
    "        x = F.relu(self.fc2(x))\n",
    "        x = F.relu(self.fc3(x))\n",
    "        x = F.relu(self.fc4(x))\n",
    "        x = F.relu(self.fc5(x))\n",
    "        x = F.relu(self.fc6(x))\n",
    "        x = F.relu(self.fc7(x))\n",
    "        x = self.out(x)\n",
    "        return x"
   ]
  },
  {
   "cell_type": "code",
   "execution_count": 16,
   "id": "4b926df1",
   "metadata": {},
   "outputs": [],
   "source": [
    "model = Model()"
   ]
  },
  {
   "cell_type": "code",
   "execution_count": 17,
   "id": "07522999",
   "metadata": {},
   "outputs": [],
   "source": [
    "CriterionLoss = nn.MSELoss()"
   ]
  },
  {
   "cell_type": "code",
   "execution_count": 18,
   "id": "d9354480",
   "metadata": {},
   "outputs": [],
   "source": [
    "optim = torch.optim.Adam(model.parameters(), lr=0.001)"
   ]
  },
  {
   "cell_type": "code",
   "execution_count": 19,
   "id": "41195eb1",
   "metadata": {},
   "outputs": [],
   "source": [
    "epochs = 4500\n",
    "losses = []\n",
    "grad_norm_list=[]\n",
    "\n",
    "for i in range(epochs):\n",
    "    i+=1\n",
    "    # feed forwarding\n",
    "    y_pred = model.forward(X)\n",
    "    \n",
    "    # calculate loss\n",
    "    tloss = CriterionLoss(y_pred, y)\n",
    "    losses.append(tloss)\n",
    "    \n",
    "    optim.zero_grad()\n",
    "    tloss.backward()\n",
    "    \n",
    "    optim.step()\n",
    "    \n",
    "    # Get gradient norm (From slides)\n",
    "    grad_all = 0.0\n",
    "    for p in model.parameters():\n",
    "        grad = 0.0\n",
    "        if p.grad is not None:\n",
    "            grad = (p.grad.cpu().data.numpy() ** 2).sum()\n",
    "        grad_all += grad\n",
    "    grad_norm = grad_all ** 0.5\n",
    "    grad_norm_list.append(grad_norm)"
   ]
  },
  {
   "cell_type": "code",
   "execution_count": 20,
   "id": "ead99c66",
   "metadata": {},
   "outputs": [],
   "source": [
    "losses=torch.tensor(losses)"
   ]
  },
  {
   "cell_type": "code",
   "execution_count": 21,
   "id": "36a933cf",
   "metadata": {},
   "outputs": [
    {
     "data": {
      "image/png": "[encoded data removed]",
      "text/plain": [
       "<Figure size 432x288 with 1 Axes>"
      ]
     },
     "metadata": {
      "needs_background": "light"
     },
     "output_type": "display_data"
    }
   ],
   "source": [
    "plt.plot(range(epochs), losses.numpy(), 'r', label='model')\n",
    "plt.title(\"Loss\")\n",
    "plt.xlabel(\"Epochs\")\n",
    "plt.ylabel(\"Loss\")\n",
    "plt.legend(loc=\"upper right\")\n",
    "plt.show()"
   ]
  },
  {
   "cell_type": "code",
   "execution_count": 22,
   "id": "a75b71a2",
   "metadata": {},
   "outputs": [
    {
     "data": {
      "image/png": "[encoded data removed]",
      "text/plain": [
       "<Figure size 432x288 with 1 Axes>"
      ]
     },
     "metadata": {
      "needs_background": "light"
     },
     "output_type": "display_data"
    }
   ],
   "source": [
    "#Gradient norm to iterations\n",
    "plt.plot(range(epochs), grad_norm_list,label='model')\n",
    "plt.title(\"Gradient Norm \")\n",
    "plt.xlabel(\"Epochs\")\n",
    "plt.ylabel(\"Gradient Norm\")\n",
    "plt.legend(loc=\"upper right\")\n",
    "plt.show()"
   ]
  },
  {
   "cell_type": "code",
   "execution_count": null,
   "id": "9330cb3d",
   "metadata": {},
   "outputs": [],
   "source": []
  }
 ],
 "metadata": {
  "kernelspec": {
   "display_name": "Python 3 (ipykernel)",
   "language": "python",
   "name": "python3"
  },
  "language_info": {
   "codemirror_mode": {
    "name": "ipython",
    "version": 3
   },
   "file_extension": ".py",
   "mimetype": "text/x-python",
   "name": "python",
   "nbconvert_exporter": "python",
   "pygments_lexer": "ipython3",
   "version": "3.9.7"
  }
 },
 "nbformat": 4,
 "nbformat_minor": 5
}
