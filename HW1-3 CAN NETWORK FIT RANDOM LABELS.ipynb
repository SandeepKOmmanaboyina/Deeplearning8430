{
 "cells": [
  {
   "cell_type": "code",
   "execution_count": 1,
   "id": "365fde82",
   "metadata": {},
   "outputs": [],
   "source": [
    "import torch\n",
    "import torch.nn as nn\n",
    "import torch.nn.functional as F\n",
    "from torch.utils.data import DataLoader\n",
    "from torchvision import datasets, transforms\n",
    "\n",
    "import numpy as np\n",
    "import pandas as pd\n",
    "import matplotlib.pyplot as plt\n",
    "%matplotlib inline"
   ]
  },
  {
   "cell_type": "code",
   "execution_count": 2,
   "id": "85389a4e",
   "metadata": {},
   "outputs": [],
   "source": [
    "transform = transforms.ToTensor()"
   ]
  },
  {
   "cell_type": "code",
   "execution_count": 3,
   "id": "dcc95e68",
   "metadata": {},
   "outputs": [],
   "source": [
    "train_data_set = datasets.MNIST(root='/Users/srisandeepkommanaboyina/Desktop/Deep learning HW!', train=True, download=True, transform=transform)\n",
    "test_data_set = datasets.MNIST(root='/Users/srisandeepkommanaboyina/Desktop/Deep learning HW!', train=False, download=True, transform=transform)"
   ]
  },
  {
   "cell_type": "code",
   "execution_count": 4,
   "id": "33a50fda",
   "metadata": {},
   "outputs": [
    {
     "data": {
      "text/plain": [
       "60000"
      ]
     },
     "execution_count": 4,
     "metadata": {},
     "output_type": "execute_result"
    }
   ],
   "source": [
    "len(train_data_set)"
   ]
  },
  {
   "cell_type": "code",
   "execution_count": 5,
   "id": "ba2d4957",
   "metadata": {},
   "outputs": [
    {
     "data": {
      "text/plain": [
       "Dataset MNIST\n",
       "    Number of datapoints: 10000\n",
       "    Root location: /Users/srisandeepkommanaboyina/Desktop/Deep learning HW!\n",
       "    Split: Test\n",
       "    StandardTransform\n",
       "Transform: ToTensor()"
      ]
     },
     "execution_count": 5,
     "metadata": {},
     "output_type": "execute_result"
    }
   ],
   "source": [
    "test_data_set"
   ]
  },
  {
   "cell_type": "code",
   "execution_count": 6,
   "id": "52995218",
   "metadata": {},
   "outputs": [],
   "source": [
    "# Randomly shuffling the labels\n",
    "rand_labels_train = torch.tensor(np.random.randint(0,10, (len(train_data_set)),))\n",
    "train_data_set.targets = rand_labels_train\n",
    "rand_labels_test = torch.tensor(np.random.randint(0,10, (len(test_data_set)),))\n",
    "test_data_set.targets = rand_labels_test"
   ]
  },
  {
   "cell_type": "code",
   "execution_count": 7,
   "id": "0d19fd0e",
   "metadata": {},
   "outputs": [],
   "source": [
    "#Data for training and testing\n",
    "train_loader = DataLoader(train_data_set, batch_size=50, shuffle=True)\n",
    "test_loader = DataLoader(test_data_set, batch_size=50, shuffle=True)"
   ]
  },
  {
   "cell_type": "code",
   "execution_count": 8,
   "id": "b8f9ba96",
   "metadata": {},
   "outputs": [],
   "source": [
    "class DNModel(nn.Module):\n",
    "    def __init__(self, inp=784, h1=120, h2=120,h3=16, outp=10):\n",
    "        super().__init__()\n",
    "        self.fc1 = nn.Linear(inp,h1)    \n",
    "        self.fc2 = nn.Linear(h1, h2)\n",
    "        self.fc3 = nn.Linear(h2, h3)\n",
    "        self.out = nn.Linear(h3, outp)\n",
    "        \n",
    "        \n",
    "    def forward(self, x):\n",
    "        x = F.relu(self.fc1(x))\n",
    "        x = F.relu(self.fc2(x))\n",
    "        x = F.relu(self.fc3(x))\n",
    "        x = self.out(x)\n",
    "        return x"
   ]
  },
  {
   "cell_type": "code",
   "execution_count": 9,
   "id": "1e6f8eb1",
   "metadata": {},
   "outputs": [],
   "source": [
    "dn_model=DNModel()"
   ]
  },
  {
   "cell_type": "code",
   "execution_count": 10,
   "id": "f2380612",
   "metadata": {},
   "outputs": [
    {
     "data": {
      "text/plain": [
       "DNModel(\n",
       "  (fc1): Linear(in_features=784, out_features=120, bias=True)\n",
       "  (fc2): Linear(in_features=120, out_features=120, bias=True)\n",
       "  (fc3): Linear(in_features=120, out_features=16, bias=True)\n",
       "  (out): Linear(in_features=16, out_features=10, bias=True)\n",
       ")"
      ]
     },
     "execution_count": 10,
     "metadata": {},
     "output_type": "execute_result"
    }
   ],
   "source": [
    "dn_model"
   ]
  },
  {
   "cell_type": "code",
   "execution_count": 11,
   "id": "8bed760e",
   "metadata": {},
   "outputs": [],
   "source": [
    "CriterionLoss = nn.CrossEntropyLoss()"
   ]
  },
  {
   "cell_type": "code",
   "execution_count": 12,
   "id": "4d78160f",
   "metadata": {},
   "outputs": [],
   "source": [
    "optim = torch.optim.Adam(dn_model.parameters(), lr=0.001)"
   ]
  },
  {
   "cell_type": "code",
   "execution_count": null,
   "id": "37a01ade",
   "metadata": {},
   "outputs": [],
   "source": [
    "epochs = 4000\n",
    "train_losses = []\n",
    "test_losses = []\n",
    "\n",
    "for i in range(epochs):\n",
    "    \n",
    "    #training the batches\n",
    "    for b, (X_train, y_train) in enumerate(train_loader):\n",
    "        \n",
    "        # Applying the model\n",
    "        y_pred = dn_model(X_train.view(50, -1))  # Here we flatten X_train\n",
    "        loss = CriterionLoss(y_pred, y_train)\n",
    " \n",
    "        # Updating the parameters\n",
    "        optim.zero_grad()\n",
    "        loss.backward()\n",
    "        optim.step()\n",
    "        \n",
    "     \n",
    "    # Appending train loss  for the epoch\n",
    "    train_losses.append(loss)\n",
    "        \n",
    "    # testing the batches\n",
    "    with torch.no_grad():\n",
    "        for b, (X_test, y_test) in enumerate(test_loader):\n",
    "\n",
    "            # Applying  the model\n",
    "            y_val = dn_model(X_test.view(50, -1)) \n",
    "    \n",
    "    # Appending test loss for the epoch\n",
    "    loss = CriterionLoss(y_val, y_test)\n",
    "    test_losses.append(loss)"
   ]
  },
  {
   "cell_type": "code",
   "execution_count": null,
   "id": "82e17d07",
   "metadata": {},
   "outputs": [],
   "source": [
    "train_losses=torch.tensor(train_losses)\n",
    "test_losses=torch.tensor(test_losses)"
   ]
  },
  {
   "cell_type": "code",
   "execution_count": null,
   "id": "05de0fd1",
   "metadata": {},
   "outputs": [],
   "source": [
    "# Visulaize losses for for MNIST dataset\n",
    "plt.plot(range(epochs), train_losses, 'r', label='Train')\n",
    "plt.plot(range(epochs), test_losses, 'b', label='Test')\n",
    "plt.title(\"Loss\")\n",
    "plt.xlabel(\"Epochs\")\n",
    "plt.ylabel(\"Loss\")\n",
    "plt.legend(loc=\"upper right\")\n",
    "plt.show()"
   ]
  },
  {
   "cell_type": "code",
   "execution_count": null,
   "id": "16e25164",
   "metadata": {},
   "outputs": [],
   "source": []
  }
 ],
 "metadata": {
  "kernelspec": {
   "display_name": "Python 3 (ipykernel)",
   "language": "python",
   "name": "python3"
  },
  "language_info": {
   "codemirror_mode": {
    "name": "ipython",
    "version": 3
   },
   "file_extension": ".py",
   "mimetype": "text/x-python",
   "name": "python",
   "nbconvert_exporter": "python",
   "pygments_lexer": "ipython3",
   "version": "3.9.7"
  }
 },
 "nbformat": 4,
 "nbformat_minor": 5
}
